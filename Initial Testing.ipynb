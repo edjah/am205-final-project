{
 "cells": [
  {
   "cell_type": "code",
   "execution_count": 1,
   "metadata": {},
   "outputs": [],
   "source": [
    "import time\n",
    "import numpy as np\n",
    "import matplotlib.pyplot as plt\n",
    "import torch\n",
    "import scipy.sparse as sp\n",
    "import scipy.sparse.linalg as spl\n",
    "\n",
    "from tqdm import tqdm_notebook as tqdm\n",
    "from PIL import Image"
   ]
  },
  {
   "cell_type": "code",
   "execution_count": 2,
   "metadata": {},
   "outputs": [],
   "source": [
    "import warnings\n",
    "warnings.filterwarnings('ignore', message='To copy construct from a tensor')"
   ]
  },
  {
   "cell_type": "code",
   "execution_count": 3,
   "metadata": {},
   "outputs": [],
   "source": []
  },
  {
   "cell_type": "code",
   "execution_count": 4,
   "metadata": {},
   "outputs": [],
   "source": [
    "def load_image(filename):\n",
    "    # loads an image in grayscale\n",
    "    # returns a 2D array (height x width) of intensities between 0 and 1\n",
    "    img = np.asarray(Image.open(filename).convert('L')) / 255.0\n",
    "    return torch.tensor(img)\n",
    "\n",
    "def show_image(arr):\n",
    "    # Takes in an gray image with intensities from 0 to 1\n",
    "    arr = np.array(arr.detach())\n",
    "    arr = (arr * 255).astype(np.uint8)\n",
    "    scaling = 500 / arr.shape[1]\n",
    "    \n",
    "    upscaled = (int(arr.shape[1] * scaling), int(arr.shape[0] * scaling))\n",
    "    display(Image.fromarray(arr).resize(upscaled))"
   ]
  },
  {
   "cell_type": "code",
   "execution_count": 5,
   "metadata": {},
   "outputs": [],
   "source": [
    "img = load_image('images/gray00.jpg')"
   ]
  },
  {
   "cell_type": "code",
   "execution_count": 6,
   "metadata": {},
   "outputs": [
    {
     "data": {
      "image/png": "[encoded data removed]",
      "text/plain": [
       "<PIL.Image.Image image mode=L size=500x500 at 0x7F2126F5A4E0>"
      ]
     },
     "metadata": {},
     "output_type": "display_data"
    }
   ],
   "source": [
    "show_image(img)"
   ]
  },
  {
   "cell_type": "code",
   "execution_count": 7,
   "metadata": {},
   "outputs": [],
   "source": [
    "def hardcode_boundary(f, internal_f):\n",
    "    assert f[1:-1, 1:-1].shape == internal_f.shape\n",
    "\n",
    "    res = f.clone()\n",
    "    res[1:-1, 1:-1] = internal_f\n",
    "    return res\n",
    "\n",
    "class SecondOrderDiffEq:\n",
    "    \"\"\"\n",
    "    A class that evaluates 2nd order nonlinear diffential equations\n",
    "    of 2 variables using a discrete finite difference\n",
    "    \"\"\"\n",
    "    def __init__(self, diff_eq_fn, num_weights, weights=None, h=0.01):\n",
    "        self.diff_eq_fn = diff_eq_fn\n",
    "        self.h = h\n",
    "        self.num_weights = num_weights\n",
    "        \n",
    "        if weights is None:\n",
    "            weights = torch.randn(num_weights)\n",
    "        \n",
    "        assert self.num_weights == len(weights)\n",
    "        self.weights = torch.tensor(weights)\n",
    "\n",
    "    def freeze(self):\n",
    "        \"\"\"\n",
    "        Returns a copy of the SecondOrderDiffEq with weights that don't require grad\n",
    "        \"\"\"\n",
    "        res = SecondOrderDiffEq(self.diff_eq_fn, self.num_weights, self.weights)\n",
    "        res.weights.requires_grad = False\n",
    "        return res\n",
    "\n",
    "    def __call__(self, f):\n",
    "        \"\"\"\n",
    "        Evaluate this DiffEq with the given values of the function value specified by `f`\n",
    "        This uses a discrete finite difference.\n",
    "        \n",
    "        `f` should be a 2D torch.tensor\n",
    "        \"\"\"\n",
    "        height, width = f.shape\n",
    "        \n",
    "        # constant term\n",
    "        constant = torch.ones((f.shape[0] - 2, f.shape[1] - 2))\n",
    "        \n",
    "        # x, y coordinates\n",
    "        x, y = np.meshgrid(np.arange(1, width - 1), np.arange(1, height - 1))\n",
    "        x = torch.tensor(x).double() * self.h\n",
    "        y = torch.tensor(y).double() * self.h\n",
    "        \n",
    "        # f_x and f_y\n",
    "        f_x = (f[1:-1, 2:] - f[1:-1, :-2]) / (2 * self.h)\n",
    "        f_y = (f[2:, 1:-1] - f[:-2, 1:-1]) / (2 * self.h)\n",
    "        \n",
    "        # f_xx and f_yy\n",
    "        f_xx = (f[1:-1, 2:] - 2*f[1:-1,1:-1] + f[1:-1, :-2]) / (self.h ** 2)\n",
    "        f_yy = (f[2:, 1:-1] - 2*f[1:-1,1:-1] + f[:-2, 1:-1]) / (self.h ** 2)\n",
    "        \n",
    "        # f_xy\n",
    "        f_xy = (f[2:, 2:] - f[:-2, 2:] - f[2:, :-2] + f[:-2, :-2]) / (4 * self.h ** 2)\n",
    "        \n",
    "        # the internal part of f that excludes the boundary conditions\n",
    "        f_internal = f[1:-1, 1:-1]\n",
    "        \n",
    "        res_internal = self.diff_eq_fn(\n",
    "            weights=self.weights,\n",
    "            constant=constant, x=x, y=y, f=f_internal,\n",
    "            f_x=f_x, f_y=f_y, \n",
    "            f_xx=f_xx, f_xy=f_xy, f_yy=f_yy\n",
    "        )\n",
    "        \n",
    "        return hardcode_boundary(torch.zeros(f.shape), res_internal)\n",
    "    \n",
    "    def fit(self, orig_image, lr=0.1, num_epochs=100, weight_penalty=0, **opt_kwargs):\n",
    "        \"\"\"\n",
    "        Fit a differential equation to an image\n",
    "        \"\"\"\n",
    "        orig_image = torch.tensor(orig_image).double()\n",
    "        self.weights.requires_grad = True\n",
    "        \n",
    "        def closure():\n",
    "            loss = torch.mean(self.__call__(orig_image) ** 2)\n",
    "            loss += weight_penalty * torch.mean(1 / (diff_eq.weights.abs() + 1e-6))\n",
    "            return loss\n",
    "        \n",
    "        self._lbfgs_training_loop([self.weights], closure, num_epochs, lr=lr, **opt_kwargs)\n",
    "        self.weights.requires_grad = False\n",
    "        return self\n",
    "\n",
    "    def solve(self, orig_image, lr=0.1, num_epochs=100, **opt_kwargs):\n",
    "        \"\"\"\n",
    "        Solve this differential equation using the boundary conditions\n",
    "        specified by `orig_image`. Only the boundaries of `orig_image`\n",
    "        are used, the remaining part of it can be arbitrary data.\n",
    "        \"\"\"\n",
    "        internal_shape = (orig_image.shape[0] - 2, orig_image.shape[1] - 2)\n",
    "        f_internal = torch.randn(internal_shape, requires_grad=True)\n",
    "        \n",
    "        def closure():\n",
    "            f = hardcode_boundary(orig_image, f_internal)\n",
    "            loss = torch.mean(self.__call__(f) ** 2)\n",
    "            return loss\n",
    "            \n",
    "        self._lbfgs_training_loop([f_internal], closure, num_epochs, lr=lr, **opt_kwargs)\n",
    "        return hardcode_boundary(orig_image, f_internal).detach()\n",
    "    \n",
    "    def _lbfgs_training_loop(self, parameters, closure, num_epochs=100, **opt_kwargs):\n",
    "        opt = torch.optim.LBFGS(parameters, **opt_kwargs)\n",
    "        \n",
    "        start_time = time.time()\n",
    "        last_time = None\n",
    "        \n",
    "        for i in range(num_epochs):\n",
    "            try:\n",
    "                opt.zero_grad()\n",
    "                loss = closure()\n",
    "                loss.backward()\n",
    "                opt.step(lambda: loss)\n",
    "                \n",
    "                if loss.detach() < 1e-4:\n",
    "                    break\n",
    "                \n",
    "                if last_time is None or time.time() - last_time > 1:\n",
    "                    tot_time = time.time() - start_time\n",
    "                    print(f'epoch {i} | {tot_time:.01f} sec | loss: {loss.detach():.3g}')\n",
    "                    last_time = time.time()\n",
    "\n",
    "            except KeyboardInterrupt:\n",
    "                print('stopping early')\n",
    "                break\n",
    "        \n",
    "        tot_time = time.time() - start_time\n",
    "        print(f'epoch {i} | {tot_time:.01f} sec | loss: {loss.detach():.3g}')\n"
   ]
  },
  {
   "cell_type": "code",
   "execution_count": 8,
   "metadata": {},
   "outputs": [
    {
     "data": {
      "text/plain": [
       "<matplotlib.image.AxesImage at 0x7f2126eec780>"
      ]
     },
     "execution_count": 8,
     "metadata": {},
     "output_type": "execute_result"
    },
    {
     "data": {
      "image/png": "[encoded data removed]",
      "text/plain": [
       "<Figure size 432x288 with 1 Axes>"
      ]
     },
     "metadata": {
      "needs_background": "light"
     },
     "output_type": "display_data"
    }
   ],
   "source": [
    "# def true_f(x, y):\n",
    "#     x = x*0.01\n",
    "#     y = y*0.01\n",
    "#     return (x - x**2 + y**2) * np.exp(x)\n",
    "\n",
    "# # generate a fake image from f(x, y) = exp(x) + exp(y)\n",
    "# img = torch.zeros((10, 10))\n",
    "# for x in range(10):\n",
    "#     for y in range(10):\n",
    "#         img[x][y] = true_f(x, y)\n",
    "# img.shape\n",
    "\n",
    "img = load_image('images/gray11.jpg')\n",
    "plt.imshow(img)"
   ]
  },
  {
   "cell_type": "code",
   "execution_count": 10,
   "metadata": {},
   "outputs": [
    {
     "name": "stdout",
     "output_type": "stream",
     "text": [
      "epoch 0 | 0.0 sec | loss: 7.51e+11\n",
      "epoch 81 | 1.0 sec | loss: 1.76e+07\n",
      "epoch 152 | 2.0 sec | loss: 3.49e+06\n",
      "epoch 221 | 3.0 sec | loss: 5.26e+05\n",
      "epoch 293 | 4.1 sec | loss: 3.59e+05\n",
      "epoch 367 | 5.1 sec | loss: 1.98e+05\n",
      "epoch 442 | 6.1 sec | loss: 6.97e+04\n",
      "epoch 517 | 7.1 sec | loss: 4.76e+04\n",
      "epoch 592 | 8.1 sec | loss: 1.37e+04\n",
      "epoch 667 | 9.1 sec | loss: 1.22e+04\n",
      "epoch 742 | 10.1 sec | loss: 7.03e+03\n",
      "epoch 816 | 11.1 sec | loss: 4.61e+03\n",
      "epoch 889 | 12.1 sec | loss: 4.22e+03\n",
      "epoch 962 | 13.1 sec | loss: 2.75e+03\n",
      "epoch 1034 | 14.1 sec | loss: 2.62e+03\n",
      "epoch 1107 | 15.1 sec | loss: 2.3e+03\n",
      "epoch 1179 | 16.2 sec | loss: 1.85e+03\n",
      "epoch 1252 | 17.2 sec | loss: 1.8e+03\n",
      "epoch 1326 | 18.2 sec | loss: 1.65e+03\n",
      "epoch 1399 | 19.2 sec | loss: 1.6e+03\n",
      "epoch 1473 | 20.2 sec | loss: 1.41e+03\n",
      "epoch 1542 | 21.2 sec | loss: 1.37e+03\n",
      "epoch 1610 | 22.2 sec | loss: 1.21e+03\n",
      "epoch 1681 | 23.2 sec | loss: 1.21e+03\n",
      "epoch 1745 | 24.2 sec | loss: 1.18e+03\n",
      "epoch 1811 | 25.2 sec | loss: 1.15e+03\n",
      "epoch 1886 | 26.2 sec | loss: 1.15e+03\n",
      "epoch 1961 | 27.2 sec | loss: 1.14e+03\n",
      "epoch 2036 | 28.3 sec | loss: 1.11e+03\n",
      "epoch 2109 | 29.3 sec | loss: 1.03e+03\n",
      "epoch 2180 | 30.3 sec | loss: 972\n",
      "epoch 2244 | 31.3 sec | loss: 970\n",
      "epoch 2310 | 32.3 sec | loss: 959\n",
      "epoch 2380 | 33.3 sec | loss: 942\n",
      "epoch 2450 | 34.3 sec | loss: 936\n",
      "epoch 2521 | 35.3 sec | loss: 935\n",
      "epoch 2594 | 36.3 sec | loss: 933\n",
      "epoch 2666 | 37.3 sec | loss: 901\n",
      "epoch 2738 | 38.3 sec | loss: 879\n",
      "epoch 2802 | 39.3 sec | loss: 871\n",
      "epoch 2870 | 40.3 sec | loss: 863\n",
      "epoch 2936 | 41.3 sec | loss: 862\n",
      "epoch 2996 | 42.4 sec | loss: 861\n",
      "epoch 3054 | 43.4 sec | loss: 860\n",
      "epoch 3125 | 44.4 sec | loss: 860\n",
      "epoch 3189 | 45.4 sec | loss: 823\n",
      "epoch 3252 | 46.4 sec | loss: 805\n",
      "epoch 3322 | 47.4 sec | loss: 805\n",
      "epoch 3395 | 48.4 sec | loss: 805\n",
      "epoch 3468 | 49.4 sec | loss: 805\n",
      "epoch 3541 | 50.4 sec | loss: 804\n",
      "epoch 3616 | 51.4 sec | loss: 798\n",
      "epoch 3691 | 52.4 sec | loss: 782\n",
      "epoch 3765 | 53.4 sec | loss: 773\n",
      "epoch 3840 | 54.5 sec | loss: 786\n",
      "epoch 3914 | 55.5 sec | loss: 768\n",
      "epoch 3988 | 56.5 sec | loss: 763\n",
      "epoch 4061 | 57.5 sec | loss: 763\n",
      "epoch 4134 | 58.5 sec | loss: 762\n",
      "epoch 4208 | 59.5 sec | loss: 761\n",
      "epoch 4282 | 60.5 sec | loss: 760\n",
      "epoch 4356 | 61.5 sec | loss: 760\n",
      "epoch 4430 | 62.5 sec | loss: 759\n",
      "epoch 4504 | 63.5 sec | loss: 758\n",
      "epoch 4578 | 64.5 sec | loss: 758\n",
      "epoch 4652 | 65.5 sec | loss: 758\n",
      "epoch 4726 | 66.6 sec | loss: 757\n",
      "epoch 4800 | 67.6 sec | loss: 757\n",
      "epoch 4875 | 68.6 sec | loss: 756\n",
      "epoch 4951 | 69.6 sec | loss: 756\n",
      "epoch 4999 | 70.2 sec | loss: 743\n"
     ]
    },
    {
     "data": {
      "text/plain": [
       "<__main__.SecondOrderDiffEq at 0x7f2124e38ac8>"
      ]
     },
     "execution_count": 10,
     "metadata": {},
     "output_type": "execute_result"
    }
   ],
   "source": [
    "def my_diffeq(weights, *, constant, x, y, f, f_x, f_y, f_xx, f_xy, f_yy):\n",
    "    tot = 0\n",
    "    w_idx = 0\n",
    "    terms = [constant, x, y, f, f_x, f_y, f_xx, f_xy, f_yy]\n",
    "    for t in terms[:]:\n",
    "        terms.append(torch.cos(t))\n",
    "    \n",
    "    for i in range(len(terms)):\n",
    "        tot += weights[w_idx] * terms[i]\n",
    "        w_idx += 1\n",
    "    \n",
    "    for i in range(len(terms)):\n",
    "        for j in range(i, len(terms)):\n",
    "            tot += weights[w_idx] * terms[i] * terms[j]\n",
    "            w_idx += 1\n",
    "            \n",
    "    return tot\n",
    "\n",
    "num_weights = 18 + 18*19 // 2\n",
    "diff_eq = SecondOrderDiffEq(my_diffeq, num_weights, h=0.01)\n",
    "diff_eq.fit(img, lr=0.5, num_epochs=5000, weight_penalty=0)"
   ]
  },
  {
   "cell_type": "code",
   "execution_count": null,
   "metadata": {},
   "outputs": [],
   "source": [
    "diff_eq.weights"
   ]
  },
  {
   "cell_type": "code",
   "execution_count": null,
   "metadata": {},
   "outputs": [],
   "source": [
    "f = diff_eq.solve(img, lr=0.1, num_epochs=500, history_size=300)\n",
    "print('f error:', torch.mean(diff_eq(f) ** 2))\n",
    "plt.imshow(f.detach().numpy());"
   ]
  },
  {
   "cell_type": "code",
   "execution_count": null,
   "metadata": {},
   "outputs": [],
   "source": [
    "img2 = torch.zeros((100, 100))\n",
    "for x in range(100):\n",
    "    for y in range(100):\n",
    "        img2[x][y] = true_f(x, y)\n",
    "img2.shape"
   ]
  },
  {
   "cell_type": "code",
   "execution_count": null,
   "metadata": {},
   "outputs": [],
   "source": [
    "plt.imshow(img2)"
   ]
  },
  {
   "cell_type": "code",
   "execution_count": null,
   "metadata": {},
   "outputs": [],
   "source": [
    "%%time\n",
    "f = diff_eq.solve(img2, lr=0.3, num_epochs=50000, history_size=10)"
   ]
  },
  {
   "cell_type": "code",
   "execution_count": null,
   "metadata": {},
   "outputs": [],
   "source": [
    "plt.imshow(f.detach().numpy())"
   ]
  },
  {
   "cell_type": "code",
   "execution_count": null,
   "metadata": {},
   "outputs": [],
   "source": []
  }
 ],
 "metadata": {
  "kernelspec": {
   "display_name": "Python 3",
   "language": "python",
   "name": "python3"
  },
  "language_info": {
   "codemirror_mode": {
    "name": "ipython",
    "version": 3
   },
   "file_extension": ".py",
   "mimetype": "text/x-python",
   "name": "python",
   "nbconvert_exporter": "python",
   "pygments_lexer": "ipython3",
   "version": "3.6.8"
  }
 },
 "nbformat": 4,
 "nbformat_minor": 2
}
