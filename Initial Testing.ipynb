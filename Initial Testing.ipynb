{
 "cells": [
  {
   "cell_type": "code",
   "execution_count": 5,
   "metadata": {},
   "outputs": [],
   "source": [
    "import numpy as np\n",
    "import matplotlib.pyplot as plt\n",
    "import torch\n",
    "import scipy.sparse as sp\n",
    "import scipy.sparse.linalg as spl\n",
    "\n",
    "from tqdm import tqdm_notebook as tqdm\n",
    "from PIL import Image"
   ]
  },
  {
   "cell_type": "code",
   "execution_count": 6,
   "metadata": {},
   "outputs": [],
   "source": [
    "import warnings\n",
    "warnings.filterwarnings('ignore', message='To copy construct from a tensor')"
   ]
  },
  {
   "cell_type": "code",
   "execution_count": 7,
   "metadata": {},
   "outputs": [],
   "source": [
    "torch.set_default_tensor_type(torch.DoubleTensor)\n",
    "# device = torch.device('cuda:0')"
   ]
  },
  {
   "cell_type": "code",
   "execution_count": 8,
   "metadata": {},
   "outputs": [],
   "source": [
    "# torch.tensor(1).to(device)"
   ]
  },
  {
   "cell_type": "code",
   "execution_count": 9,
   "metadata": {},
   "outputs": [],
   "source": [
    "# import os\n",
    "# files = os.listdir('images')\n",
    "\n",
    "# for i, f in enumerate(files):\n",
    "#     old_name = f'gray/{f}'\n",
    "#     new_name = f'gray/gray{i:02}.jpg'\n",
    "#     !mv $old_name $new_name"
   ]
  },
  {
   "cell_type": "code",
   "execution_count": 10,
   "metadata": {},
   "outputs": [],
   "source": [
    "def load_image(filename):\n",
    "    # loads an image in grayscale\n",
    "    # returns a 2D array (height x width) of intensities between 0 and 1\n",
    "    img = np.asarray(Image.open(filename).convert('L')) / 255.0\n",
    "    return torch.tensor(img)\n",
    "\n",
    "def show_image(arr):\n",
    "    # Takes in an gray image with intensities from 0 to 1\n",
    "    arr = np.array(arr)\n",
    "    arr = (arr * 255).astype(np.uint8)\n",
    "    scaling = 500 / arr.shape[1]\n",
    "    \n",
    "    upscaled = (int(arr.shape[1] * scaling), int(arr.shape[0] * scaling))\n",
    "    display(Image.fromarray(arr).resize(upscaled))"
   ]
  },
  {
   "cell_type": "code",
   "execution_count": 11,
   "metadata": {},
   "outputs": [],
   "source": [
    "img = load_image('images/gray00.jpg')"
   ]
  },
  {
   "cell_type": "code",
   "execution_count": 12,
   "metadata": {},
   "outputs": [
    {
     "data": {
      "image/png": "[encoded data removed]",
      "text/plain": [
       "<PIL.Image.Image image mode=L size=500x500 at 0x7F619DA28208>"
      ]
     },
     "metadata": {},
     "output_type": "display_data"
    }
   ],
   "source": [
    "show_image(img)"
   ]
  },
  {
   "cell_type": "code",
   "execution_count": 13,
   "metadata": {},
   "outputs": [],
   "source": [
    "def boundary_conditions_idx(f):    \n",
    "    boundary_conditions_y = []\n",
    "    boundary_conditions_x = []\n",
    "    \n",
    "    for y in range(f.shape[0]):\n",
    "        boundary_conditions_y += [y, y]\n",
    "        boundary_conditions_x += [0, f.shape[1] - 1]\n",
    "    \n",
    "    for x in range(f.shape[1]):\n",
    "        boundary_conditions_y += [0, f.shape[0] - 1]\n",
    "        boundary_conditions_x += [x, x]\n",
    "\n",
    "    return boundary_conditions_y, boundary_conditions_x"
   ]
  },
  {
   "cell_type": "code",
   "execution_count": 16,
   "metadata": {},
   "outputs": [],
   "source": [
    "class SecondOrderDiffEq:\n",
    "    \"\"\"\n",
    "    A class that evaluates 2nd order diffential equations of 2 variables\n",
    "    using a discrete finite difference\n",
    "    \"\"\"\n",
    "    def __init__(self, weights=None):        \n",
    "        # the 9 weights in the 2nd order PDE of 2 variables correspond to (in order):\n",
    "        # constant, y, x, f, f_y, f_x, f_yy, f_yx, f_xx\n",
    "        num_weights = 9\n",
    "        \n",
    "        if weights is None:\n",
    "            weights = torch.randn(num_weights, requires_grad=True)\n",
    "        \n",
    "        assert len(weights) == num_weights\n",
    "        self.weights = torch.tensor(weights, requires_grad=True)\n",
    "\n",
    "    def freeze(self):\n",
    "        \"\"\"\n",
    "        Returns a copy of the DiffEq with weights that don't require grad\n",
    "        \"\"\"\n",
    "        res = SecondOrderDiffEq(self.weights.clone().detach())\n",
    "        res.weights.requires_grad = False\n",
    "        return res\n",
    "    \n",
    "    def _build_diff_mat_and_source(self, image, h=0.01):\n",
    "        w_c, w_y, w_x, w_f, w_f_y, w_f_x, w_f_yy, w_f_yx, w_f_xx = self.weights\n",
    "\n",
    "        height, width = image.shape\n",
    "        n = height * width\n",
    "    \n",
    "        def idx(r, c):\n",
    "            return r*width + c\n",
    "\n",
    "        # figuring out the boundaries\n",
    "        bound_y, bound_x = boundary_conditions_idx(image)\n",
    "        boundaries = set(zip(bound_y, bound_x))    \n",
    "    \n",
    "        # building the differentiation matrix and source term\n",
    "        diff_mat = torch.zeros((n, n))\n",
    "        source = torch.zeros(n)\n",
    "\n",
    "        for i in range(n):\n",
    "            row = i // width\n",
    "            col = i % width\n",
    "\n",
    "            if (row, col) in boundaries:\n",
    "                diff_mat[i][i] = 1\n",
    "                source[i] = image[row][col]\n",
    "                continue\n",
    "\n",
    "            # computing the source term\n",
    "            source[i] -= w_c\n",
    "            source[i] -= w_x * col\n",
    "            source[i] -= w_y * row\n",
    "\n",
    "            # zero order f\n",
    "            diff_mat[i][i] = w_f\n",
    "\n",
    "            # first order f_x\n",
    "            diff_mat[i, idx(row, col - 1)] -= w_f_x / (2 * h)\n",
    "            diff_mat[i, idx(row, col + 1)] += w_f_x / (2 * h)\n",
    "\n",
    "            # first order f_y\n",
    "            diff_mat[i, idx(row - 1, col)] -= w_f_y / (2 * h)\n",
    "            diff_mat[i, idx(row + 1, col)] += w_f_y / (2 * h)\n",
    "\n",
    "            # second order f_xx\n",
    "            diff_mat[i, idx(row, col - 1)] += w_f_xx / (h * h)\n",
    "            diff_mat[i, idx(row, col)] -= 2 * w_f_xx / (h * h)\n",
    "            diff_mat[i, idx(row, col + 1)] += w_f_xx / (h * h)\n",
    "\n",
    "            # second order f_yy\n",
    "            diff_mat[i, idx(row - 1, col)] += w_f_yy / (h * h)\n",
    "            diff_mat[i, idx(row, col)] -= 2 * w_f_yy / (h * h)\n",
    "            diff_mat[i, idx(row + 1, col)] += w_f_yy / (h * h)\n",
    "\n",
    "            # second order f_yx\n",
    "            diff_mat[i, idx(row + 1, col + 1)] += w_f_yx / (4 * h * h)\n",
    "            diff_mat[i, idx(row - 1, col + 1)] -= w_f_yx / (4 * h * h)\n",
    "            diff_mat[i, idx(row + 1, col - 1)] -= w_f_yx / (4 * h * h)\n",
    "            diff_mat[i, idx(row - 1, col - 1)] += w_f_yx / (4 * h * h)\n",
    "        \n",
    "        return diff_mat, source\n",
    "    \n",
    "    def solve(self, orig_image):\n",
    "        # we only use the `orig_image` for its shape and its boundary conditions\n",
    "        diff_mat, source = self._build_diff_mat_and_source(orig_image)\n",
    "        \n",
    "        diff_mat = sp.csr_matrix(diff_mat.detach().numpy())\n",
    "        source = source.detach().numpy()\n",
    "        \n",
    "        res = spl.spsolve(diff_mat, source)\n",
    "        return torch.tensor(res.reshape(orig_image.shape))\n",
    "    \n",
    "\n",
    "    def __call__(self, f, h=0.01):\n",
    "        \"\"\"\n",
    "        Evaluate this DiffEq with the given values of the function value `f`\n",
    "        This uses a discrete finite difference.\n",
    "        \n",
    "        `f` should be a 2D torch.tensor\n",
    "        \"\"\"\n",
    "        \n",
    "        diff_mat, source = self._build_diff_mat_and_source(f, h)\n",
    "        return (diff_mat @ f.flatten() - source).reshape(f.shape)"
   ]
  },
  {
   "cell_type": "code",
   "execution_count": 17,
   "metadata": {},
   "outputs": [],
   "source": [
    "def harcode_boundary(image, internal_f):\n",
    "    res = image.clone()\n",
    "    assert res[1:-1, 1:-1].shape == internal_f.shape\n",
    "    res[1:-1, 1:-1] = internal_f\n",
    "    return res\n",
    "\n",
    "def old_solve_diff_eq(image, diff_eq, num_epochs=100, lr=1):\n",
    "    # set up the \"learned\" f\n",
    "    internal_shape = (image.shape[0] - 2, image.shape[1] - 2)\n",
    "    internal_f = torch.randn(internal_shape, requires_grad=True)\n",
    "\n",
    "    # optimize `internal_f` to minimize the squared error of the diff_eq\n",
    "    opt = torch.optim.LBFGS([internal_f], lr=lr)\n",
    "    for i in range(num_epochs):\n",
    "        try:\n",
    "            opt.zero_grad()\n",
    "\n",
    "            f = harcode_boundary(image, internal_f)\n",
    "            loss = torch.sum(diff_eq(f) ** 2)\n",
    "            loss.backward()\n",
    "            opt.step(lambda: loss)\n",
    "\n",
    "            if loss.detach() < 1e-8:\n",
    "                break\n",
    "\n",
    "            if i % 10 == 0:\n",
    "                print(f'solve_diff_eq() epoch {i}: {loss.detach():.3g}')\n",
    "        except KeyboardInterrupt:\n",
    "            print('Stopping training early')\n",
    "            break\n",
    "\n",
    "    print(f'solve_diff_eq() epoch {i} loss: {loss.detach():.3g}')\n",
    "    return f\n"
   ]
  },
  {
   "cell_type": "code",
   "execution_count": 28,
   "metadata": {},
   "outputs": [],
   "source": [
    "def fit_diff_eq(image, num_epochs=1000, weight_penalty=2, lr=0.1):\n",
    "    image = torch.tensor(image).double()\n",
    "\n",
    "    diff_eq = SecondOrderDiffEq()\n",
    "\n",
    "    opt = torch.optim.LBFGS([diff_eq.weights], lr=lr)\n",
    "    for i in range(num_epochs):\n",
    "        try:\n",
    "            opt.zero_grad()\n",
    "\n",
    "            loss = torch.sum(diff_eq(image) ** 2)\n",
    "            loss += weight_penalty * torch.sum(1 / (diff_eq.weights.abs() + 1e-10))\n",
    "\n",
    "            loss.backward()\n",
    "            opt.step(lambda: loss)\n",
    "\n",
    "            print(f'Epoch {i} loss: {loss.detach():.3g}')\n",
    "        except KeyboardInterrupt:\n",
    "            print('Stopping training early')\n",
    "            break\n",
    "        \n",
    "    return diff_eq"
   ]
  },
  {
   "cell_type": "code",
   "execution_count": 39,
   "metadata": {},
   "outputs": [
    {
     "data": {
      "text/plain": [
       "torch.Size([10, 10])"
      ]
     },
     "execution_count": 39,
     "metadata": {},
     "output_type": "execute_result"
    }
   ],
   "source": [
    "def true_f(x, y):\n",
    "    h = 0.01\n",
    "    return np.exp(x*h) + np.exp(y*h)\n",
    "\n",
    "# generate a fake image from f(x, y) = exp(x) + exp(y)\n",
    "img = torch.zeros((10, 10))\n",
    "for x in range(10):\n",
    "    for y in range(10):\n",
    "        img[x][y] = true_f(x, y)\n",
    "img.shape"
   ]
  },
  {
   "cell_type": "code",
   "execution_count": 30,
   "metadata": {},
   "outputs": [
    {
     "name": "stdout",
     "output_type": "stream",
     "text": [
      "Epoch 0 loss: 438\n",
      "Epoch 1 loss: 335\n",
      "Epoch 2 loss: 278\n",
      "Epoch 3 loss: 232\n",
      "Epoch 4 loss: 195\n",
      "Epoch 5 loss: 165\n",
      "Epoch 6 loss: 141\n",
      "Epoch 7 loss: 121\n",
      "Epoch 8 loss: 106\n",
      "Epoch 9 loss: 93.2\n",
      "Epoch 10 loss: 83\n",
      "Epoch 11 loss: 74.8\n",
      "Epoch 12 loss: 68.2\n",
      "Epoch 13 loss: 62.9\n",
      "Epoch 14 loss: 58.6\n",
      "Epoch 15 loss: 55.2\n",
      "Epoch 16 loss: 52.3\n",
      "Epoch 17 loss: 50\n",
      "Epoch 18 loss: 48\n",
      "Epoch 19 loss: 46.4\n",
      "Epoch 20 loss: 45\n",
      "Epoch 21 loss: 43.8\n",
      "Epoch 22 loss: 42.7\n",
      "Epoch 23 loss: 41.8\n",
      "Epoch 24 loss: 41.1\n",
      "Epoch 25 loss: 40.4\n",
      "Epoch 26 loss: 39.8\n",
      "Epoch 27 loss: 39.2\n",
      "Epoch 28 loss: 38.7\n",
      "Epoch 29 loss: 38.3\n",
      "Epoch 30 loss: 37.9\n",
      "Epoch 31 loss: 37.6\n",
      "Epoch 32 loss: 37.3\n",
      "Epoch 33 loss: 37\n",
      "Epoch 34 loss: 36.8\n",
      "Epoch 35 loss: 36.5\n",
      "Epoch 36 loss: 36.3\n",
      "Epoch 37 loss: 36.2\n",
      "Epoch 38 loss: 36\n",
      "Epoch 39 loss: 35.8\n",
      "Epoch 40 loss: 35.7\n",
      "Epoch 41 loss: 35.5\n",
      "Epoch 42 loss: 35.3\n",
      "Epoch 43 loss: 35.2\n",
      "Epoch 44 loss: 35\n",
      "Epoch 45 loss: 34.8\n",
      "Epoch 46 loss: 34.7\n",
      "Epoch 47 loss: 34.6\n",
      "Epoch 48 loss: 34.4\n",
      "Epoch 49 loss: 34.3\n",
      "Epoch 50 loss: 34.1\n",
      "Epoch 51 loss: 33.9\n",
      "Epoch 52 loss: 33.7\n",
      "Epoch 53 loss: 33.5\n",
      "Epoch 54 loss: 33.2\n",
      "Epoch 55 loss: 33\n",
      "Epoch 56 loss: 32.7\n",
      "Epoch 57 loss: 32.4\n",
      "Epoch 58 loss: 32.1\n",
      "Epoch 59 loss: 31.8\n",
      "Epoch 60 loss: 31.4\n",
      "Epoch 61 loss: 31\n",
      "Epoch 62 loss: 30.7\n",
      "Epoch 63 loss: 30.3\n",
      "Epoch 64 loss: 30\n",
      "Epoch 65 loss: 29.6\n",
      "Epoch 66 loss: 29.3\n",
      "Epoch 67 loss: 28.9\n",
      "Epoch 68 loss: 28.6\n",
      "Epoch 69 loss: 28.2\n",
      "Epoch 70 loss: 27.9\n",
      "Epoch 71 loss: 27.5\n",
      "Epoch 72 loss: 27.2\n",
      "Epoch 73 loss: 26.8\n",
      "Epoch 74 loss: 26.4\n",
      "Epoch 75 loss: 26.1\n",
      "Epoch 76 loss: 25.7\n",
      "Epoch 77 loss: 25.3\n",
      "Epoch 78 loss: 24.9\n",
      "Epoch 79 loss: 24.4\n",
      "Epoch 80 loss: 24\n",
      "Epoch 81 loss: 23.5\n",
      "Epoch 82 loss: 23\n",
      "Epoch 83 loss: 22.5\n",
      "Epoch 84 loss: 22.1\n",
      "Epoch 85 loss: 21.6\n",
      "Epoch 86 loss: 21.1\n",
      "Epoch 87 loss: 20.7\n",
      "Epoch 88 loss: 20.2\n",
      "Epoch 89 loss: 19.8\n",
      "Epoch 90 loss: 19.3\n",
      "Epoch 91 loss: 18.9\n",
      "Epoch 92 loss: 18.5\n",
      "Epoch 93 loss: 18.1\n",
      "Epoch 94 loss: 17.7\n",
      "Epoch 95 loss: 17.3\n",
      "Epoch 96 loss: 16.9\n",
      "Epoch 97 loss: 16.5\n",
      "Epoch 98 loss: 16.2\n",
      "Epoch 99 loss: 15.8\n",
      "Epoch 100 loss: 15.4\n",
      "Epoch 101 loss: 15\n",
      "Epoch 102 loss: 14.7\n",
      "Epoch 103 loss: 14.3\n",
      "Epoch 104 loss: 13.9\n",
      "Epoch 105 loss: 13.5\n",
      "Epoch 106 loss: 13\n",
      "Epoch 107 loss: 12.6\n",
      "Epoch 108 loss: 12.1\n",
      "Epoch 109 loss: 11.6\n",
      "Epoch 110 loss: 11.1\n",
      "Epoch 111 loss: 10.6\n",
      "Epoch 112 loss: 10\n",
      "Epoch 113 loss: 9.57\n",
      "Epoch 114 loss: 9.03\n",
      "Epoch 115 loss: 8.51\n",
      "Epoch 116 loss: 8.01\n",
      "Epoch 117 loss: 7.55\n",
      "Epoch 118 loss: 7.12\n",
      "Epoch 119 loss: 6.72\n",
      "Epoch 120 loss: 6.35\n",
      "Epoch 121 loss: 6.01\n",
      "Epoch 122 loss: 5.7\n",
      "Epoch 123 loss: 5.42\n",
      "Epoch 124 loss: 5.15\n",
      "Epoch 125 loss: 4.91\n",
      "Epoch 126 loss: 4.68\n",
      "Epoch 127 loss: 4.47\n",
      "Epoch 128 loss: 4.26\n",
      "Epoch 129 loss: 4.08\n",
      "Epoch 130 loss: 3.91\n",
      "Epoch 131 loss: 3.75\n",
      "Epoch 132 loss: 3.59\n",
      "Epoch 133 loss: 3.45\n",
      "Epoch 134 loss: 3.31\n",
      "Epoch 135 loss: 3.18\n",
      "Epoch 136 loss: 3.05\n",
      "Epoch 137 loss: 2.93\n",
      "Epoch 138 loss: 2.83\n",
      "Epoch 139 loss: 2.72\n",
      "Epoch 140 loss: 2.63\n",
      "Epoch 141 loss: 2.54\n",
      "Epoch 142 loss: 2.46\n",
      "Epoch 143 loss: 2.38\n",
      "Epoch 144 loss: 2.31\n",
      "Epoch 145 loss: 2.24\n",
      "Epoch 146 loss: 2.18\n",
      "Epoch 147 loss: 2.13\n",
      "Epoch 148 loss: 2.08\n",
      "Epoch 149 loss: 2.03\n",
      "Epoch 150 loss: 1.99\n",
      "Epoch 151 loss: 1.96\n",
      "Epoch 152 loss: 1.92\n",
      "Epoch 153 loss: 1.89\n",
      "Epoch 154 loss: 1.87\n",
      "Epoch 155 loss: 1.84\n",
      "Epoch 156 loss: 1.82\n",
      "Epoch 157 loss: 1.8\n",
      "Epoch 158 loss: 1.79\n",
      "Epoch 159 loss: 1.78\n",
      "Epoch 160 loss: 1.77\n",
      "Epoch 161 loss: 1.76\n",
      "Epoch 162 loss: 1.75\n",
      "Epoch 163 loss: 1.74\n",
      "Epoch 164 loss: 1.74\n",
      "Epoch 165 loss: 1.73\n",
      "Epoch 166 loss: 1.73\n",
      "Epoch 167 loss: 1.72\n",
      "Epoch 168 loss: 1.72\n",
      "Epoch 169 loss: 1.72\n",
      "Epoch 170 loss: 1.72\n",
      "Epoch 171 loss: 1.71\n",
      "Epoch 172 loss: 1.71\n",
      "Epoch 173 loss: 1.71\n",
      "Epoch 174 loss: 1.71\n",
      "Epoch 175 loss: 1.71\n",
      "Epoch 176 loss: 1.71\n",
      "Epoch 177 loss: 1.71\n",
      "Epoch 178 loss: 1.71\n",
      "Epoch 179 loss: 1.71\n",
      "Epoch 180 loss: 1.71\n",
      "Epoch 181 loss: 1.71\n",
      "Epoch 182 loss: 1.71\n",
      "Epoch 183 loss: 1.71\n",
      "Epoch 184 loss: 1.71\n",
      "Epoch 185 loss: 1.71\n",
      "Epoch 186 loss: 1.71\n",
      "Epoch 187 loss: 1.71\n",
      "Epoch 188 loss: 1.71\n",
      "Epoch 189 loss: 1.71\n",
      "Epoch 190 loss: 1.71\n",
      "Epoch 191 loss: 1.71\n",
      "Epoch 192 loss: 1.71\n",
      "Epoch 193 loss: 1.71\n",
      "Epoch 194 loss: 1.71\n",
      "Epoch 195 loss: 1.71\n",
      "Epoch 196 loss: 1.71\n",
      "Epoch 197 loss: 1.71\n",
      "Epoch 198 loss: 1.71\n",
      "Epoch 199 loss: 1.71\n"
     ]
    }
   ],
   "source": [
    "torch.manual_seed(2)\n",
    "diff_eq = fit_diff_eq(img, num_epochs=200, weight_penalty=1)"
   ]
  },
  {
   "cell_type": "code",
   "execution_count": 41,
   "metadata": {},
   "outputs": [
    {
     "data": {
      "text/plain": [
       "<matplotlib.image.AxesImage at 0x7f619c246ba8>"
      ]
     },
     "execution_count": 41,
     "metadata": {},
     "output_type": "execute_result"
    },
    {
     "data": {
      "image/png": "[encoded data removed]",
      "text/plain": [
       "<Figure size 432x288 with 1 Axes>"
      ]
     },
     "metadata": {
      "needs_background": "light"
     },
     "output_type": "display_data"
    }
   ],
   "source": [
    "plt.imshow(img)"
   ]
  },
  {
   "cell_type": "code",
   "execution_count": 42,
   "metadata": {},
   "outputs": [
    {
     "name": "stdout",
     "output_type": "stream",
     "text": [
      "f error: tensor(2.1268e-15, grad_fn=<SumBackward0>)\n"
     ]
    },
    {
     "data": {
      "image/png": "[encoded data removed]",
      "text/plain": [
       "<Figure size 432x288 with 1 Axes>"
      ]
     },
     "metadata": {
      "needs_background": "light"
     },
     "output_type": "display_data"
    }
   ],
   "source": [
    "f = diff_eq.solve(img)\n",
    "print('f error:', torch.sum(diff_eq(f) ** 2))\n",
    "plt.imshow(f.detach().numpy());"
   ]
  },
  {
   "cell_type": "code",
   "execution_count": 43,
   "metadata": {},
   "outputs": [
    {
     "data": {
      "text/plain": [
       "torch.Size([100, 100])"
      ]
     },
     "execution_count": 43,
     "metadata": {},
     "output_type": "execute_result"
    }
   ],
   "source": [
    "img2 = torch.zeros((100, 100))\n",
    "for x in range(100):\n",
    "    for y in range(100):\n",
    "        img2[x][y] = true_f(x, y)\n",
    "img2.shape"
   ]
  },
  {
   "cell_type": "code",
   "execution_count": 44,
   "metadata": {},
   "outputs": [
    {
     "data": {
      "text/plain": [
       "<matplotlib.image.AxesImage at 0x7f619c180518>"
      ]
     },
     "execution_count": 44,
     "metadata": {},
     "output_type": "execute_result"
    },
    {
     "data": {
      "image/png": "[encoded data removed]",
      "text/plain": [
       "<Figure size 432x288 with 1 Axes>"
      ]
     },
     "metadata": {
      "needs_background": "light"
     },
     "output_type": "display_data"
    }
   ],
   "source": [
    "plt.imshow(img2)"
   ]
  },
  {
   "cell_type": "code",
   "execution_count": 45,
   "metadata": {},
   "outputs": [],
   "source": [
    "f = diff_eq.solve(img2)"
   ]
  },
  {
   "cell_type": "code",
   "execution_count": 46,
   "metadata": {},
   "outputs": [
    {
     "data": {
      "text/plain": [
       "<matplotlib.image.AxesImage at 0x7f619c156d30>"
      ]
     },
     "execution_count": 46,
     "metadata": {},
     "output_type": "execute_result"
    },
    {
     "data": {
      "image/png": "[encoded data removed]",
      "text/plain": [
       "<Figure size 432x288 with 1 Axes>"
      ]
     },
     "metadata": {
      "needs_background": "light"
     },
     "output_type": "display_data"
    }
   ],
   "source": [
    "plt.imshow(f.detach().numpy())"
   ]
  },
  {
   "cell_type": "code",
   "execution_count": null,
   "metadata": {},
   "outputs": [],
   "source": []
  }
 ],
 "metadata": {
  "kernelspec": {
   "display_name": "Python 3",
   "language": "python",
   "name": "python3"
  },
  "language_info": {
   "codemirror_mode": {
    "name": "ipython",
    "version": 3
   },
   "file_extension": ".py",
   "mimetype": "text/x-python",
   "name": "python",
   "nbconvert_exporter": "python",
   "pygments_lexer": "ipython3",
   "version": "3.6.8"
  }
 },
 "nbformat": 4,
 "nbformat_minor": 2
}
