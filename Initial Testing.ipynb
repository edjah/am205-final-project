{
 "cells": [
  {
   "cell_type": "code",
   "execution_count": 451,
   "metadata": {},
   "outputs": [],
   "source": [
    "import time\n",
    "import numpy as np\n",
    "import matplotlib.pyplot as plt\n",
    "import torch\n",
    "import scipy.sparse as sp\n",
    "import scipy.sparse.linalg as spl\n",
    "\n",
    "from tqdm import tqdm_notebook as tqdm\n",
    "from PIL import Image"
   ]
  },
  {
   "cell_type": "code",
   "execution_count": 6,
   "metadata": {},
   "outputs": [],
   "source": [
    "import warnings\n",
    "warnings.filterwarnings('ignore', message='To copy construct from a tensor')"
   ]
  },
  {
   "cell_type": "code",
   "execution_count": 7,
   "metadata": {},
   "outputs": [],
   "source": [
    "torch.set_default_tensor_type(torch.DoubleTensor)\n",
    "# device = torch.device('cuda:0')"
   ]
  },
  {
   "cell_type": "code",
   "execution_count": 8,
   "metadata": {},
   "outputs": [],
   "source": [
    "# torch.tensor(1).to(device)"
   ]
  },
  {
   "cell_type": "code",
   "execution_count": 9,
   "metadata": {},
   "outputs": [],
   "source": [
    "# import os\n",
    "# files = os.listdir('images')\n",
    "\n",
    "# for i, f in enumerate(files):\n",
    "#     old_name = f'gray/{f}'\n",
    "#     new_name = f'gray/gray{i:02}.jpg'\n",
    "#     !mv $old_name $new_name"
   ]
  },
  {
   "cell_type": "code",
   "execution_count": 10,
   "metadata": {},
   "outputs": [],
   "source": [
    "def load_image(filename):\n",
    "    # loads an image in grayscale\n",
    "    # returns a 2D array (height x width) of intensities between 0 and 1\n",
    "    img = np.asarray(Image.open(filename).convert('L')) / 255.0\n",
    "    return torch.tensor(img)\n",
    "\n",
    "def show_image(arr):\n",
    "    # Takes in an gray image with intensities from 0 to 1\n",
    "    arr = np.array(arr)\n",
    "    arr = (arr * 255).astype(np.uint8)\n",
    "    scaling = 500 / arr.shape[1]\n",
    "    \n",
    "    upscaled = (int(arr.shape[1] * scaling), int(arr.shape[0] * scaling))\n",
    "    display(Image.fromarray(arr).resize(upscaled))"
   ]
  },
  {
   "cell_type": "code",
   "execution_count": 11,
   "metadata": {},
   "outputs": [],
   "source": [
    "img = load_image('images/gray00.jpg')"
   ]
  },
  {
   "cell_type": "code",
   "execution_count": 12,
   "metadata": {},
   "outputs": [
    {
     "data": {
      "image/png": "[encoded data removed]",
      "text/plain": [
       "<PIL.Image.Image image mode=L size=500x500 at 0x7F619DA28208>"
      ]
     },
     "metadata": {},
     "output_type": "display_data"
    }
   ],
   "source": [
    "show_image(img)"
   ]
  },
  {
   "cell_type": "code",
   "execution_count": 513,
   "metadata": {},
   "outputs": [],
   "source": [
    "def hardcode_boundary(f, internal_f):\n",
    "    assert f[1:-1, 1:-1].shape == internal_f.shape\n",
    "\n",
    "    res = f.clone()\n",
    "    res[1:-1, 1:-1] = internal_f\n",
    "    return res\n",
    "\n",
    "class SecondOrderDiffEq:\n",
    "    \"\"\"\n",
    "    A class that evaluates 2nd order nonlinear diffential equations\n",
    "    of 2 variables using a discrete finite difference\n",
    "    \"\"\"\n",
    "    def __init__(self, diff_eq_fn, num_weights, weights=None, h=0.01):\n",
    "        self.diff_eq_fn = diff_eq_fn\n",
    "        self.h = h\n",
    "        self.num_weights = num_weights\n",
    "        \n",
    "        if weights is None:\n",
    "            weights = torch.randn(num_weights)\n",
    "        \n",
    "        assert self.num_weights == len(weights)\n",
    "        self.weights = torch.tensor(weights)\n",
    "\n",
    "    def freeze(self):\n",
    "        \"\"\"\n",
    "        Returns a copy of the SecondOrderDiffEq with weights that don't require grad\n",
    "        \"\"\"\n",
    "        res = SecondOrderDiffEq(self.diff_eq_fn, self.num_weights, self.weights)\n",
    "        res.weights.requires_grad = False\n",
    "        return res\n",
    "\n",
    "    def __call__(self, f):\n",
    "        \"\"\"\n",
    "        Evaluate this DiffEq with the given values of the function value specified by `f`\n",
    "        This uses a discrete finite difference.\n",
    "        \n",
    "        `f` should be a 2D torch.tensor\n",
    "        \"\"\"\n",
    "        height, width = f.shape\n",
    "        \n",
    "        # constant term\n",
    "        constant = torch.ones((f.shape[0] - 2, f.shape[1] - 2))\n",
    "        \n",
    "        # x, y coordinates\n",
    "        x, y = np.meshgrid(np.arange(1, width - 1), np.arange(1, height - 1))\n",
    "        x = torch.tensor(x).double() * self.h\n",
    "        y = torch.tensor(y).double() * self.h\n",
    "        \n",
    "        # f_x and f_y\n",
    "        f_x = (f[1:-1, 2:] - f[1:-1, :-2]) / (2 * self.h)\n",
    "        f_y = (f[2:, 1:-1] - f[:-2, 1:-1]) / (2 * self.h)\n",
    "        \n",
    "        # f_xx and f_yy\n",
    "        f_xx = (f[1:-1, 2:] - 2*f[1:-1,1:-1] + f[1:-1, :-2]) / (self.h ** 2)\n",
    "        f_yy = (f[2:, 1:-1] - 2*f[1:-1,1:-1] + f[:-2, 1:-1]) / (self.h ** 2)\n",
    "        \n",
    "        # f_xy\n",
    "        f_xy = (f[2:, 2:] - f[:-2, 2:] - f[2:, :-2] + f[:-2, :-2]) / (4 * self.h ** 2)\n",
    "        \n",
    "        # the internal part of f that excludes the boundary conditions\n",
    "        f_internal = f[1:-1, 1:-1]\n",
    "        \n",
    "        res_internal = self.diff_eq_fn(\n",
    "            weights=self.weights,\n",
    "            constant=constant, x=x, y=y, f=f_internal,\n",
    "            f_x=f_x, f_y=f_y, \n",
    "            f_xx=f_xx, f_xy=f_xy, f_yy=f_yy\n",
    "        )\n",
    "        \n",
    "        return hardcode_boundary(torch.zeros(f.shape), res_internal)\n",
    "    \n",
    "    def fit(self, orig_image, lr=0.1, num_epochs=100, weight_penalty=0, **opt_kwargs):\n",
    "        \"\"\"\n",
    "        Fit a differential equation to an image\n",
    "        \"\"\"\n",
    "        orig_image = torch.tensor(orig_image).double()\n",
    "        self.weights.requires_grad = True\n",
    "        \n",
    "        def closure():\n",
    "            loss = torch.mean(self.__call__(orig_image) ** 2)\n",
    "            loss += weight_penalty * torch.mean(1 / (diff_eq.weights.abs() + 1e-6))\n",
    "            return loss\n",
    "        \n",
    "        self._lbfgs_training_loop([self.weights], closure, num_epochs, lr=lr, **opt_kwargs)\n",
    "        self.weights.requires_grad = False\n",
    "        return self\n",
    "\n",
    "    def solve(self, orig_image, lr=0.1, num_epochs=100, **opt_kwargs):\n",
    "        \"\"\"\n",
    "        Solve this differential equation using the boundary conditions\n",
    "        specified by `orig_image`. Only the boundaries of `orig_image`\n",
    "        are used, the remaining part of it can be arbitrary data.\n",
    "        \"\"\"\n",
    "        internal_shape = (orig_image.shape[0] - 2, orig_image.shape[1] - 2)\n",
    "        f_internal = torch.randn(internal_shape, requires_grad=True)\n",
    "        \n",
    "        def closure():\n",
    "            f = hardcode_boundary(orig_image, f_internal)\n",
    "            loss = torch.mean(self.__call__(f) ** 2)\n",
    "            return loss\n",
    "            \n",
    "        self._lbfgs_training_loop([f_internal], closure, num_epochs, lr=lr, **opt_kwargs)\n",
    "        return hardcode_boundary(orig_image, f_internal).detach()\n",
    "    \n",
    "    def _lbfgs_training_loop(self, parameters, closure, num_epochs=100, **opt_kwargs):\n",
    "        opt = torch.optim.LBFGS(parameters, **opt_kwargs)\n",
    "        \n",
    "        start_time = time.time()\n",
    "        last_time = start_time\n",
    "        \n",
    "        for i in range(num_epochs):\n",
    "            try:\n",
    "                opt.zero_grad()\n",
    "                loss = closure()\n",
    "                loss.backward()\n",
    "                opt.step(lambda: loss)\n",
    "                \n",
    "                if loss.detach() < 1e-8:\n",
    "                    break\n",
    "                \n",
    "                if time.time() - last_time > 1:\n",
    "                    tot_time = time.time() - start_time\n",
    "                    print(f'epoch {i} | {tot_time:.01f} sec | loss: {loss.detach():.3g}')\n",
    "                    last_time = time.time()\n",
    "\n",
    "            except KeyboardInterrupt:\n",
    "                print('stopping early')\n",
    "                break\n",
    "        \n",
    "        tot_time = time.time() - start_time\n",
    "        print(f'epoch {i} | {tot_time:.01f} sec | loss: {loss.detach():.3g}')\n"
   ]
  },
  {
   "cell_type": "code",
   "execution_count": 514,
   "metadata": {},
   "outputs": [
    {
     "data": {
      "text/plain": [
       "torch.Size([10, 10])"
      ]
     },
     "execution_count": 514,
     "metadata": {},
     "output_type": "execute_result"
    }
   ],
   "source": [
    "def true_f(x, y):\n",
    "    h = 0.01\n",
    "    return np.exp(x*h) + np.exp(y*h)\n",
    "\n",
    "# generate a fake image from f(x, y) = exp(x) + exp(y)\n",
    "img = torch.zeros((10, 10))\n",
    "for x in range(10):\n",
    "    for y in range(10):\n",
    "        img[x][y] = true_f(x, y)\n",
    "img.shape"
   ]
  },
  {
   "cell_type": "code",
   "execution_count": 515,
   "metadata": {},
   "outputs": [
    {
     "name": "stdout",
     "output_type": "stream",
     "text": [
      "epoch 179 | 0.5 sec | loss: 8.46e-09\n"
     ]
    },
    {
     "data": {
      "text/plain": [
       "<__main__.SecondOrderDiffEq at 0x7f61875cf3c8>"
      ]
     },
     "execution_count": 515,
     "metadata": {},
     "output_type": "execute_result"
    }
   ],
   "source": [
    "def my_diffeq(weights, *, constant, x, y, f, f_x, f_y, f_xx, f_xy, f_yy):\n",
    "    a, b, c = weights\n",
    "    return a*f_xx + b*f_yy - c*f\n",
    "\n",
    "diff_eq = SecondOrderDiffEq(my_diffeq, 3, h=0.01)\n",
    "diff_eq.fit(img, lr=0.1, num_epochs=1000, weight_penalty=0)"
   ]
  },
  {
   "cell_type": "code",
   "execution_count": 516,
   "metadata": {},
   "outputs": [
    {
     "data": {
      "text/plain": [
       "tensor([0.7999, 0.8003, 0.8001])"
      ]
     },
     "execution_count": 516,
     "metadata": {},
     "output_type": "execute_result"
    }
   ],
   "source": [
    "diff_eq.weights"
   ]
  },
  {
   "cell_type": "code",
   "execution_count": 517,
   "metadata": {},
   "outputs": [
    {
     "data": {
      "text/plain": [
       "<matplotlib.image.AxesImage at 0x7f6187591080>"
      ]
     },
     "execution_count": 517,
     "metadata": {},
     "output_type": "execute_result"
    },
    {
     "data": {
      "image/png": "[encoded data removed]",
      "text/plain": [
       "<Figure size 432x288 with 1 Axes>"
      ]
     },
     "metadata": {
      "needs_background": "light"
     },
     "output_type": "display_data"
    }
   ],
   "source": [
    "plt.imshow(img)"
   ]
  },
  {
   "cell_type": "code",
   "execution_count": 518,
   "metadata": {},
   "outputs": [
    {
     "name": "stdout",
     "output_type": "stream",
     "text": [
      "epoch 93 | 0.2 sec | loss: 6.92e-09\n",
      "f error: tensor(3.8102e-07)\n"
     ]
    },
    {
     "data": {
      "image/png": "[encoded data removed]",
      "text/plain": [
       "<Figure size 432x288 with 1 Axes>"
      ]
     },
     "metadata": {
      "needs_background": "light"
     },
     "output_type": "display_data"
    }
   ],
   "source": [
    "f = diff_eq.solve(img, lr=1.0, num_epochs=1000, history_size=30)\n",
    "print('f error:', torch.sum(diff_eq(f) ** 2))\n",
    "plt.imshow(f.detach().numpy());"
   ]
  },
  {
   "cell_type": "code",
   "execution_count": 519,
   "metadata": {},
   "outputs": [
    {
     "data": {
      "text/plain": [
       "torch.Size([100, 100])"
      ]
     },
     "execution_count": 519,
     "metadata": {},
     "output_type": "execute_result"
    }
   ],
   "source": [
    "img2 = torch.zeros((100, 100))\n",
    "for x in range(100):\n",
    "    for y in range(100):\n",
    "        img2[x][y] = true_f(x, y)\n",
    "img2.shape"
   ]
  },
  {
   "cell_type": "code",
   "execution_count": 520,
   "metadata": {},
   "outputs": [
    {
     "data": {
      "text/plain": [
       "<matplotlib.image.AxesImage at 0x7f618724aa90>"
      ]
     },
     "execution_count": 520,
     "metadata": {},
     "output_type": "execute_result"
    },
    {
     "data": {
      "image/png": "[encoded data removed]",
      "text/plain": [
       "<Figure size 432x288 with 1 Axes>"
      ]
     },
     "metadata": {
      "needs_background": "light"
     },
     "output_type": "display_data"
    }
   ],
   "source": [
    "plt.imshow(img2)"
   ]
  },
  {
   "cell_type": "code",
   "execution_count": 521,
   "metadata": {},
   "outputs": [
    {
     "name": "stdout",
     "output_type": "stream",
     "text": [
      "epoch 491 | 1.0 sec | loss: 2.18e+04\n",
      "epoch 988 | 2.0 sec | loss: 7.67e+03\n",
      "epoch 1467 | 3.0 sec | loss: 3.17e+03\n",
      "epoch 1954 | 4.0 sec | loss: 2.25e+03\n",
      "epoch 2419 | 5.0 sec | loss: 1.98e+03\n",
      "epoch 2892 | 6.0 sec | loss: 1.62e+03\n",
      "epoch 3353 | 7.0 sec | loss: 1.4e+03\n",
      "epoch 3800 | 8.0 sec | loss: 1.16e+03\n",
      "epoch 4286 | 9.0 sec | loss: 873\n",
      "epoch 4774 | 10.0 sec | loss: 643\n",
      "epoch 5260 | 11.0 sec | loss: 488\n",
      "epoch 5736 | 12.0 sec | loss: 350\n",
      "epoch 6226 | 13.0 sec | loss: 239\n",
      "epoch 6732 | 14.0 sec | loss: 205\n",
      "epoch 7231 | 15.0 sec | loss: 175\n",
      "epoch 7730 | 16.0 sec | loss: 163\n",
      "epoch 8216 | 17.0 sec | loss: 156\n",
      "epoch 8711 | 18.0 sec | loss: 140\n",
      "epoch 9217 | 19.0 sec | loss: 129\n",
      "epoch 9685 | 20.0 sec | loss: 96.6\n",
      "epoch 10182 | 21.0 sec | loss: 71.1\n",
      "epoch 10667 | 22.0 sec | loss: 57.3\n",
      "epoch 11142 | 23.0 sec | loss: 49.3\n",
      "epoch 11630 | 24.0 sec | loss: 44.9\n",
      "epoch 12132 | 25.0 sec | loss: 42.8\n",
      "epoch 12636 | 26.0 sec | loss: 41\n",
      "epoch 13103 | 27.0 sec | loss: 38.4\n",
      "epoch 13566 | 28.0 sec | loss: 36.7\n",
      "epoch 14009 | 29.0 sec | loss: 33.5\n",
      "epoch 14470 | 30.0 sec | loss: 29.1\n",
      "epoch 14954 | 31.0 sec | loss: 26.2\n",
      "epoch 15430 | 32.0 sec | loss: 21.2\n",
      "epoch 15887 | 33.0 sec | loss: 17.9\n",
      "epoch 16342 | 34.0 sec | loss: 16.4\n",
      "epoch 16830 | 35.0 sec | loss: 15\n",
      "epoch 17285 | 36.0 sec | loss: 14.4\n",
      "epoch 17756 | 37.0 sec | loss: 14\n",
      "epoch 18234 | 38.0 sec | loss: 13.6\n",
      "epoch 18685 | 39.1 sec | loss: 13\n",
      "epoch 19139 | 40.1 sec | loss: 12\n",
      "epoch 19608 | 41.1 sec | loss: 10.7\n",
      "epoch 20081 | 42.1 sec | loss: 7.99\n",
      "epoch 20546 | 43.1 sec | loss: 7.31\n",
      "epoch 21045 | 44.1 sec | loss: 6.71\n",
      "epoch 21548 | 45.1 sec | loss: 6.38\n",
      "epoch 22032 | 46.1 sec | loss: 6.24\n",
      "epoch 22495 | 47.1 sec | loss: 6.03\n",
      "stopping early\n",
      "epoch 22605 | 47.3 sec | loss: 5.98\n",
      "CPU times: user 3min 55s, sys: 700 ms, total: 3min 55s\n",
      "Wall time: 47.3 s\n"
     ]
    }
   ],
   "source": [
    "%%time\n",
    "f = diff_eq.solve(img2, lr=0.3, num_epochs=50000, history_size=10)"
   ]
  },
  {
   "cell_type": "code",
   "execution_count": 522,
   "metadata": {},
   "outputs": [
    {
     "data": {
      "text/plain": [
       "<matplotlib.image.AxesImage at 0x7f6187097cf8>"
      ]
     },
     "execution_count": 522,
     "metadata": {},
     "output_type": "execute_result"
    },
    {
     "data": {
      "image/png": "[encoded data removed]",
      "text/plain": [
       "<Figure size 432x288 with 1 Axes>"
      ]
     },
     "metadata": {
      "needs_background": "light"
     },
     "output_type": "display_data"
    }
   ],
   "source": [
    "plt.imshow(f.detach().numpy())"
   ]
  },
  {
   "cell_type": "code",
   "execution_count": 372,
   "metadata": {},
   "outputs": [],
   "source": []
  }
 ],
 "metadata": {
  "kernelspec": {
   "display_name": "Python 3",
   "language": "python",
   "name": "python3"
  },
  "language_info": {
   "codemirror_mode": {
    "name": "ipython",
    "version": 3
   },
   "file_extension": ".py",
   "mimetype": "text/x-python",
   "name": "python",
   "nbconvert_exporter": "python",
   "pygments_lexer": "ipython3",
   "version": "3.6.8"
  }
 },
 "nbformat": 4,
 "nbformat_minor": 2
}
